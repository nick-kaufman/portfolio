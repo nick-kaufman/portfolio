{
 "cells": [
  {
   "cell_type": "code",
   "execution_count": 1,
   "metadata": {},
   "outputs": [],
   "source": [
    "import csv\n",
    "from collections import defaultdict\n",
    "from pathlib import Path\n",
    "\n",
    "from gensim.corpora.textcorpus import TextCorpus\n",
    "from gensim.parsing.preprocessing import preprocess_string\n",
    "from gensim import utils\n",
    "import spacy"
   ]
  },
  {
   "cell_type": "code",
   "execution_count": 2,
   "metadata": {},
   "outputs": [],
   "source": [
    "nlp = spacy.load(\"en_core_web_lg\")"
   ]
  },
  {
   "cell_type": "code",
   "execution_count": 26,
   "metadata": {},
   "outputs": [],
   "source": [
    "doc = nlp(\"David wrote some of her own songs apparently. is a test document. Google sponsored them for this investment.\")"
   ]
  },
  {
   "cell_type": "code",
   "execution_count": 27,
   "metadata": {},
   "outputs": [
    {
     "data": {
      "text/plain": [
       "(David,)"
      ]
     },
     "execution_count": 27,
     "metadata": {},
     "output_type": "execute_result"
    }
   ],
   "source": [
    "doc.ents"
   ]
  },
  {
   "cell_type": "code",
   "execution_count": 28,
   "metadata": {},
   "outputs": [
    {
     "name": "stdout",
     "output_type": "stream",
     "text": [
      "David PERSON\n"
     ]
    }
   ],
   "source": [
    "for ent in doc.ents:\n",
    "    print(ent.text, ent.label_)"
   ]
  },
  {
   "cell_type": "code",
   "execution_count": 30,
   "metadata": {},
   "outputs": [
    {
     "name": "stdout",
     "output_type": "stream",
     "text": [
      "(300,)\n"
     ]
    }
   ],
   "source": [
    "# code snippet to get glove embeddings of vector.\n",
    "cat_id = nlp.vocab.strings[u\"cat\"]\n",
    "cat_vec = nlp.vocab.vectors[cat_id]\n",
    "print(cat_vec.shape)"
   ]
  },
  {
   "cell_type": "code",
   "execution_count": 7,
   "metadata": {},
   "outputs": [],
   "source": [
    "class CSVCorpus(TextCorpus):\n",
    "    def getstream(self):\n",
    "        with open(Path(self.input)) as csv_file:\n",
    "            reader = csv.DictReader(csv_file)\n",
    "            for row in reader:\n",
    "                yield row[\"text\"]\n",
    "    def get_docs(self):\n",
    "        for doc in self.getstream():\n",
    "            yield nlp(doc)\n",
    "        return\n",
    "    def __len__(self):\n",
    "        self.length = sum(1 for _ in self.get_texts())\n",
    "        return self.length"
   ]
  },
  {
   "cell_type": "code",
   "execution_count": 8,
   "metadata": {},
   "outputs": [],
   "source": [
    "datapath = Path(\"data/songdata.csv\")\n",
    "lyrics_corpus = CSVCorpus(datapath)"
   ]
  },
  {
   "cell_type": "code",
   "execution_count": 9,
   "metadata": {},
   "outputs": [],
   "source": [
    "entity_counter = {}\n",
    "for song in lyrics_corpus.get_docs():\n",
    "    ents = song.ents\n",
    "    for ent in ents:\n",
    "        if ent.label_ != \"PERSON\":\n",
    "            continue\n",
    "        try:\n",
    "            entity_counter[ent.text] += 1\n",
    "        except KeyError:\n",
    "            entity_counter[ent.text] = 1"
   ]
  },
  {
   "cell_type": "code",
   "execution_count": 10,
   "metadata": {},
   "outputs": [],
   "source": [
    "top_50 = [(entity, num_entity) for entity, num_entity in sorted(entity_counter.items(), key= lambda k: -k[1])[:50]]"
   ]
  },
  {
   "cell_type": "code",
   "execution_count": 11,
   "metadata": {},
   "outputs": [
    {
     "name": "stdout",
     "output_type": "stream",
     "text": [
      "Named Entity: Jesus\tNumber Observations: 2909\n",
      "Named Entity: Mary\tNumber Observations: 642\n",
      "Named Entity: Said\tNumber Observations: 630\n",
      "Named Entity: Johnny\tNumber Observations: 616\n",
      "Named Entity: Kiss\tNumber Observations: 505\n",
      "Named Entity: Santa Claus\tNumber Observations: 472\n",
      "Named Entity: Jack\tNumber Observations: 448\n",
      "Named Entity: Joe\tNumber Observations: 422\n",
      "Named Entity: God\tNumber Observations: 302\n",
      "Named Entity: Billy\tNumber Observations: 291\n",
      "Named Entity: John\tNumber Observations: 274\n",
      "Named Entity: Feelin\tNumber Observations: 271\n",
      "Named Entity: Deep\tNumber Observations: 270\n",
      "Named Entity: Sun\tNumber Observations: 266\n",
      "Named Entity: Nigga\tNumber Observations: 247\n",
      "Named Entity: Sweet\tNumber Observations: 238\n",
      "Named Entity: Jesus Christ\tNumber Observations: 237\n",
      "Named Entity: Lucy\tNumber Observations: 230\n",
      "Named Entity: Sittin\tNumber Observations: 216\n",
      "Named Entity: Sally\tNumber Observations: 212\n",
      "Named Entity: Jimmy\tNumber Observations: 210\n",
      "Named Entity: Charlie\tNumber Observations: 206\n",
      "Named Entity: Annie\tNumber Observations: 199\n",
      "Named Entity: Tryin\tNumber Observations: 188\n",
      "Named Entity: Jane\tNumber Observations: 182\n",
      "Named Entity: Christ\tNumber Observations: 178\n",
      "Named Entity: jack\tNumber Observations: 175\n",
      "Named Entity: Noel\tNumber Observations: 172\n",
      "Named Entity: Comin\tNumber Observations: 170\n",
      "Named Entity: Bobby\tNumber Observations: 165\n",
      "Named Entity: Free\tNumber Observations: 162\n",
      "Named Entity: Julie\tNumber Observations: 162\n",
      "Named Entity: Grandma\tNumber Observations: 160\n",
      "Named Entity: Maria\tNumber Observations: 157\n",
      "Named Entity: Jim\tNumber Observations: 156\n",
      "Named Entity: Gloria\tNumber Observations: 155\n",
      "Named Entity: Elvis\tNumber Observations: 155\n",
      "Named Entity: mm\tNumber Observations: 151\n",
      "Named Entity: Harry\tNumber Observations: 143\n",
      "Named Entity: Ridin\tNumber Observations: 143\n",
      "Named Entity: Juliet\tNumber Observations: 140\n",
      "Named Entity: Cinderella\tNumber Observations: 137\n",
      "Named Entity: La\tNumber Observations: 136\n",
      "Named Entity: Angel\tNumber Observations: 136\n",
      "Named Entity: Singin\tNumber Observations: 132\n",
      "Named Entity: Gucci\tNumber Observations: 128\n",
      "Named Entity: Down\tNumber Observations: 125\n",
      "Named Entity: Jones\tNumber Observations: 124\n",
      "Named Entity: Dan\tNumber Observations: 123\n",
      "Named Entity: Goin'\tNumber Observations: 123\n"
     ]
    }
   ],
   "source": [
    "for a, b in top_50:\n",
    "    print(f\"Named Entity: {a}\\tNumber Observations: {b}\")"
   ]
  },
  {
   "cell_type": "code",
   "execution_count": null,
   "metadata": {},
   "outputs": [],
   "source": []
  }
 ],
 "metadata": {
  "kernelspec": {
   "display_name": "venv_portfolio",
   "language": "python",
   "name": "venv_portfolio"
  },
  "language_info": {
   "codemirror_mode": {
    "name": "ipython",
    "version": 3
   },
   "file_extension": ".py",
   "mimetype": "text/x-python",
   "name": "python",
   "nbconvert_exporter": "python",
   "pygments_lexer": "ipython3",
   "version": "3.7.2"
  }
 },
 "nbformat": 4,
 "nbformat_minor": 2
}
