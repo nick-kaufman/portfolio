{
 "cells": [
  {
   "cell_type": "code",
   "execution_count": 70,
   "metadata": {},
   "outputs": [],
   "source": [
    "import csv\n",
    "import pathlib\n",
    "import time"
   ]
  },
  {
   "cell_type": "code",
   "execution_count": 16,
   "metadata": {},
   "outputs": [],
   "source": [
    "from gensim.parsing.preprocessing import preprocess_string\n",
    "from gensim.corpora.textcorpus import TextCorpus\n",
    "from gensim.models import LsiModel, LdaModel\n",
    "from gensim import similarities\n",
    "from gensim import utils"
   ]
  },
  {
   "cell_type": "code",
   "execution_count": 24,
   "metadata": {},
   "outputs": [],
   "source": [
    "class CSVCorpus(TextCorpus):\n",
    "    def getstream(self):\n",
    "        with open(pathlib.Path(self.input)) as csv_file:\n",
    "            reader = csv.DictReader(csv_file)\n",
    "            for row in reader:\n",
    "                yield row[\"text\"]\n",
    "    def get_docs(self):\n",
    "        for doc in self.getstream():\n",
    "            tokens = preprocess_string(utils.to_unicode(doc))\n",
    "            yield tokens\n",
    "        return\n",
    "    def __len__(self):\n",
    "        self.length = sum(1 for _ in self.get_texts())\n",
    "        return self.length"
   ]
  },
  {
   "cell_type": "code",
   "execution_count": 6,
   "metadata": {},
   "outputs": [],
   "source": [
    "datapath = pathlib.Path(\"data/songdata.csv\")"
   ]
  },
  {
   "cell_type": "code",
   "execution_count": 25,
   "metadata": {},
   "outputs": [],
   "source": [
    "cc = CSVCorpus(datapath)"
   ]
  },
  {
   "cell_type": "code",
   "execution_count": 26,
   "metadata": {},
   "outputs": [
    {
     "data": {
      "text/plain": [
       "57650"
      ]
     },
     "execution_count": 26,
     "metadata": {},
     "output_type": "execute_result"
    }
   ],
   "source": [
    "print(\"Number of documents: {}\".format(len(cc)))\n",
    "print(\"Number of unique items in dictionary: {}\".format(len(cc.dictionary)))"
   ]
  },
  {
   "cell_type": "code",
   "execution_count": 30,
   "metadata": {},
   "outputs": [],
   "source": [
    "t0 = time.time()\n",
    "lsi = LsiModel(cc, id2word=cc.dictionary, num_topics=150, onepass=False)\n",
    "t1 = time.time()\n",
    "print(\"Trained LSI model in: {} minutes\".format((t1-t0)/60.0)"
   ]
  },
  {
   "cell_type": "code",
   "execution_count": 31,
   "metadata": {},
   "outputs": [],
   "source": [
    "t0 = time.time()\n",
    "lda = LdaModel(cc, id2word=cc.dictionary, num_topics=150, passes=5)\n",
    "t1 = time.time()\n",
    "print(\"Trained LSI model in: {} minutes\".format((t1-t0)/60.0)"
   ]
  },
  {
   "cell_type": "code",
   "execution_count": 65,
   "metadata": {},
   "outputs": [],
   "source": [
    "index = similarities.MatrixSimilarity(lda[cc])"
   ]
  },
  {
   "cell_type": "code",
   "execution_count": 66,
   "metadata": {},
   "outputs": [],
   "source": [
    "index.save(\"data/lyrics_lda.index\")"
   ]
  },
  {
   "cell_type": "code",
   "execution_count": 74,
   "metadata": {},
   "outputs": [],
   "source": [
    "sims = index[lda[cc.dictionary.doc2bow(preprocess_string(data[0][\"text\"]))]]"
   ]
  },
  {
   "cell_type": "code",
   "execution_count": 75,
   "metadata": {},
   "outputs": [],
   "source": [
    "ordered_sims = sorted(enumerate(sims), key = lambda k: k[1], reverse=True)"
   ]
  },
  {
   "cell_type": "code",
   "execution_count": 76,
   "metadata": {},
   "outputs": [
    {
     "name": "stdout",
     "output_type": "stream",
     "text": [
      "0 (0, 0.78802884)\n",
      "1 (52886, 0.7080367)\n",
      "2 (48223, 0.70101875)\n",
      "3 (24588, 0.6954764)\n",
      "4 (23119, 0.68913555)\n",
      "5 (16756, 0.6842629)\n",
      "6 (10546, 0.6799623)\n",
      "7 (92, 0.6615739)\n",
      "8 (13608, 0.6531278)\n",
      "9 (5485, 0.6299102)\n"
     ]
    }
   ],
   "source": [
    "for i, e in enumerate(ordered_sims):\n",
    "    print(i, e)\n",
    "    if i == 9:\n",
    "        break"
   ]
  },
  {
   "cell_type": "code",
   "execution_count": 77,
   "metadata": {},
   "outputs": [
    {
     "name": "stdout",
     "output_type": "stream",
     "text": [
      "The Temptations My Girl\n",
      "--------------------------------------------------------------------------------\n",
      "I've got sunshine on a cloudy day  \n",
      "When it's cold outside, I've got the month of May  \n",
      "I guess you'd say  \n",
      "What can make me feel this way?  \n",
      "  \n",
      "My girl, my girl, my girl  \n",
      "Talkin' 'bout my girl  \n",
      "My girl  \n",
      "  \n",
      "I've got so much honey, the bees envy me  \n",
      "I've got a sweeter song than the birds in the trees  \n",
      "Well, I guess you'd say  \n",
      "What can make me feel this way?  \n",
      "  \n",
      "My girl, my girl, my girl  \n",
      "Talkin' 'bout my girl  \n",
      "My girl  \n",
      "Ooh  \n",
      "  \n",
      "Hey, hey, hey  \n",
      "Hey, hey, hey  \n",
      "Yeah  \n",
      "  \n",
      "I don't need no money, fortune or fame  \n",
      "I got all the riches baby, one man can claim  \n",
      "Well, I guess you'd say  \n",
      "What can make me feel this way?  \n",
      "  \n",
      "My girl, my girl, my girl  \n",
      "Talkin' 'bout my girl  \n",
      "My girl  \n",
      "  \n",
      "I've got sunshine on a cloudy day  \n",
      "With my girl  \n",
      "I've even got the month of may  \n",
      "With my girl  \n",
      "  \n",
      "Talkin' 'bout, talkin' 'bout  \n",
      "Talkin' 'bout my girl, my girl  \n",
      "That's all I can talk about  \n",
      "Is my girl\n",
      "\n",
      "\n"
     ]
    }
   ],
   "source": [
    "print(data[52886][\"artist\"], data[52886][\"song\"])\n",
    "print(\"-\"*80)\n",
    "print(data[52886][\"text\"])"
   ]
  },
  {
   "cell_type": "code",
   "execution_count": 78,
   "metadata": {},
   "outputs": [
    {
     "name": "stdout",
     "output_type": "stream",
     "text": [
      "ABBA Ahe's My Kind Of Girl\n",
      "--------------------------------------------------------------------------------\n",
      "Look at her face, it's a wonderful face  \n",
      "And it means something special to me  \n",
      "Look at the way that she smiles when she sees me  \n",
      "How lucky can one fellow be?  \n",
      "  \n",
      "She's just my kind of girl, she makes me feel fine  \n",
      "Who could ever believe that she could be mine?  \n",
      "She's just my kind of girl, without her I'm blue  \n",
      "And if she ever leaves me what could I do, what could I do?  \n",
      "  \n",
      "And when we go for a walk in the park  \n",
      "And she holds me and squeezes my hand  \n",
      "We'll go on walking for hours and talking  \n",
      "About all the things that we plan  \n",
      "  \n",
      "She's just my kind of girl, she makes me feel fine  \n",
      "Who could ever believe that she could be mine?  \n",
      "She's just my kind of girl, without her I'm blue  \n",
      "And if she ever leaves me what could I do, what could I do?\n",
      "\n",
      "\n"
     ]
    }
   ],
   "source": [
    "print(data[0][\"artist\"], data[0][\"song\"])\n",
    "print(\"-\"*80)\n",
    "print(data[0][\"text\"])"
   ]
  },
  {
   "cell_type": "code",
   "execution_count": null,
   "metadata": {},
   "outputs": [],
   "source": []
  }
 ],
 "metadata": {
  "kernelspec": {
   "display_name": "venv_portfolio",
   "language": "python",
   "name": "venv_portfolio"
  },
  "language_info": {
   "codemirror_mode": {
    "name": "ipython",
    "version": 3
   },
   "file_extension": ".py",
   "mimetype": "text/x-python",
   "name": "python",
   "nbconvert_exporter": "python",
   "pygments_lexer": "ipython3",
   "version": "3.7.2"
  }
 },
 "nbformat": 4,
 "nbformat_minor": 2
}
