{
 "cells": [
  {
   "cell_type": "code",
   "execution_count": 29,
   "metadata": {},
   "outputs": [],
   "source": [
    "# If the models/indices do not exist on disk already, set this to True to generate them.\n",
    "# Otherwise, load from disk and save lots of time.\n",
    "train = False"
   ]
  },
  {
   "cell_type": "code",
   "execution_count": 2,
   "metadata": {},
   "outputs": [],
   "source": [
    "import csv\n",
    "import matplotlib.pyplot as plt\n",
    "import pathlib\n",
    "import random\n",
    "import time\n",
    "\n",
    "from gensim.parsing.preprocessing import preprocess_string\n",
    "from gensim.corpora.textcorpus import TextCorpus\n",
    "from gensim.models import LsiModel, LdaModel\n",
    "from gensim import similarities\n",
    "from gensim import utils\n",
    "from numpy import dot\n",
    "from scipy import sparse\n",
    "from sklearn.manifold import TSNE"
   ]
  },
  {
   "cell_type": "code",
   "execution_count": 34,
   "metadata": {},
   "outputs": [],
   "source": [
    "# TODO: add processing sections to get different fields from the iteration.\n",
    "# Subclass from TextCorpus - convenient way to iterate through corpus in a memory efficient way.\n",
    "class CSVCorpus(TextCorpus):\n",
    "    def getstream(self):\n",
    "        with open(pathlib.Path(self.input)) as csv_file:\n",
    "            reader = csv.DictReader(csv_file)\n",
    "            for row in reader:\n",
    "                yield row[\"text\"]\n",
    "    def get_docs(self):\n",
    "        for doc in self.getstream():\n",
    "            tokens = preprocess_string(utils.to_unicode(doc))\n",
    "            yield tokens\n",
    "        return\n",
    "    def get_doc(self, doc_index):\n",
    "        for idx, doc in enumerate(self.getstream()):\n",
    "            if idx == doc_index:\n",
    "                tokens = preprocess_string(utils.to_unicode(doc))\n",
    "                return tokens\n",
    "    def __len__(self):\n",
    "        self.length = sum(1 for _ in self.get_texts())\n",
    "        return self.length"
   ]
  },
  {
   "cell_type": "code",
   "execution_count": 15,
   "metadata": {},
   "outputs": [],
   "source": [
    "# Functions...\n",
    "def get_similarity_matrix(model, model_name, train):\n",
    "    if train:\n",
    "        t0 = time.time()\n",
    "        index = similarities.MatrixSimilarity(model[cc])\n",
    "        t1 = time.time()\n",
    "        index.save(f\"data/lyrics_{model_name}.index\")\n",
    "        print(f\"Constructed {model_name} Similarity Matrix in {(t1-t0)/60} minutes\")\n",
    "        print(f\"Persisted {model_name} index to disk.\")\n",
    "    else:\n",
    "        index = similarities.MatrixSimilarity.load(f\"data/lyrics_{model_name}.index\")\n",
    "        print(f\"Loaded {model_name} index from Disk.\")\n",
    "    return index\n",
    "\n",
    "def flatten(lst):\n",
    "    \"\"\"Helper function to make sparse COO matrix.\n",
    "    \"\"\"\n",
    "    flat_list = [item for sublist in lst for item in sublist]\n",
    "    return flat_list"
   ]
  },
  {
   "cell_type": "code",
   "execution_count": 5,
   "metadata": {},
   "outputs": [],
   "source": [
    "datapath = pathlib.Path(\"data/songdata.csv\")"
   ]
  },
  {
   "cell_type": "code",
   "execution_count": 35,
   "metadata": {},
   "outputs": [
    {
     "name": "stdout",
     "output_type": "stream",
     "text": [
      "Set Custom CSV Corpus in 0.41842538913091026 minutes.\n"
     ]
    }
   ],
   "source": [
    "# Instantiate corpus\n",
    "t0 = time.time()\n",
    "cc = CSVCorpus(datapath)\n",
    "t1 = time.time()\n",
    "print(f\"Set Custom CSV Corpus in {(t1-t0)/60} minutes.\")\n",
    "print(\"Number of documents: {}\".format(len(cc)))\n",
    "print(\"Number of unique items in dictionary: {}\".format(len(cc.dictionary)))"
   ]
  },
  {
   "cell_type": "code",
   "execution_count": 8,
   "metadata": {},
   "outputs": [
    {
     "name": "stdout",
     "output_type": "stream",
     "text": [
      "Trained LSI model in: 2.180571969350179 minutes\n",
      "Persisted  LSI model to disk.\n"
     ]
    }
   ],
   "source": [
    "# Train or Load LSI  model.\n",
    "if train:\n",
    "    t0 = time.time()\n",
    "    lsi = LsiModel(cc, id2word=cc.dictionary, num_topics=150, onepass=False)\n",
    "    t1 = time.time()\n",
    "    lsi.save(\"data/lsi.model\")\n",
    "    print(\"Trained LSI model in: {} minutes\".format((t1-t0)/60.0))\n",
    "    print(\"Persisted  LSI model to disk.\")\n",
    "else:\n",
    "    lsi = LsiModel.load(\"data/lsi.model\")\n",
    "    print(\"Loaded LSI model from disk.\")"
   ]
  },
  {
   "cell_type": "code",
   "execution_count": 9,
   "metadata": {},
   "outputs": [
    {
     "name": "stdout",
     "output_type": "stream",
     "text": [
      "Trained LDA model in: 11.256805618604025 minutes\n",
      "Persisted LDA model to disk.\n"
     ]
    }
   ],
   "source": [
    "# Train or Load LDA model.\n",
    "if train:\n",
    "    t0 = time.time()\n",
    "    lda = LdaModel(cc, id2word=cc.dictionary, num_topics=150, passes=5)\n",
    "    t1 = time.time()\n",
    "    lda.save(\"data/lda.model\")\n",
    "    print(\"Trained LDA model in: {} minutes\".format((t1-t0)/60.0))\n",
    "    print(\"Persisted LDA model to disk.\")\n",
    "else:\n",
    "    lda = LdaModel.load(\"data/lda.model\")\n",
    "    print(\"Loaded LDA model from disk.\")"
   ]
  },
  {
   "cell_type": "code",
   "execution_count": 16,
   "metadata": {},
   "outputs": [
    {
     "name": "stdout",
     "output_type": "stream",
     "text": [
      "Constructed lda Similarity Matrix in 4.5720011472702025 minutes\n",
      "Persisted lda index to disk.\n",
      "Constructed lsi Similarity Matrix in 1.3128353079160056 minutes\n",
      "Persisted lsi index to disk.\n"
     ]
    }
   ],
   "source": [
    "# Train or load similarity matrix\n",
    "lda_index = get_similarity_matrix(lda, \"lda\", train)\n",
    "lsi_index = get_similarity_matrix(lsi, \"lsi\", train)"
   ]
  },
  {
   "cell_type": "code",
   "execution_count": null,
   "metadata": {},
   "outputs": [],
   "source": [
    "first_song = cc.get_doc(0)\n",
    "sims = lsi_index[lsi[cc.dictionary.doc2bow(first_song)]]\n",
    "ordered_sims = sorted(enumerate(sims), key = lambda k: k[1], reverse=True)"
   ]
  },
  {
   "cell_type": "code",
   "execution_count": 64,
   "metadata": {},
   "outputs": [
    {
     "name": "stdout",
     "output_type": "stream",
     "text": [
      "song_id:\tsimilarity_score\n",
      "--------------------------\n",
      "0:\t\t0.8806207776069641\n",
      "27565:\t\t0.7375124096870422\n",
      "6057:\t\t0.7239879369735718\n",
      "19592:\t\t0.7179632186889648\n",
      "15748:\t\t0.7116075754165649\n",
      "7461:\t\t0.6979591250419617\n",
      "37217:\t\t0.6752104163169861\n",
      "52857:\t\t0.6650410294532776\n",
      "31573:\t\t0.6641811728477478\n",
      "33043:\t\t0.6357895731925964\n"
     ]
    }
   ],
   "source": [
    "# See top 10 most similar songs... (by id and similarity score.)\n",
    "print(\"song_id:\\tsimilarity_score\")\n",
    "print(\"--------------------------\")\n",
    "for song_id, similarity_score in ordered_sims[:10]:\n",
    "    print(f\"{song_id}:\\t\\t{similarity_score}\")"
   ]
  },
  {
   "cell_type": "code",
   "execution_count": 38,
   "metadata": {},
   "outputs": [
    {
     "name": "stdout",
     "output_type": "stream",
     "text": [
      "['look', 'face', 'wonder', 'face', 'mean', 'special', 'look', 'wai', 'smile', 'see', 'lucki', 'fellow', 'kind', 'girl', 'make', 'feel', 'fine', 'believ', 'kind', 'girl', 'blue', 'leav', 'walk', 'park', 'hold', 'squeez', 'hand', 'walk', 'hour', 'talk', 'thing', 'plan', 'kind', 'girl', 'make', 'feel', 'fine', 'believ', 'kind', 'girl', 'blue', 'leav']\n",
      "-------\n",
      "['catfish', 'girl', 'make', 'feel', 'fine', 'catfish', 'girl', 'pull', 'line', 'smile', 'face', 'singl', 'time', 'yeah', 'catfish', 'girl', 'miss', 'lord', 'feel', 'blue', 'catfish', 'girl', 'littl', 'thing', 'catfish', 'girl', 'want', 'catfish', 'come', 'ain', 'prettiest', 'thing']\n"
     ]
    }
   ],
   "source": [
    "# print some song lyrics...\n",
    "x = cc.get_doc(0)\n",
    "y = cc.get_doc(27565)\n",
    "print(x)\n",
    "print(\"-------\")\n",
    "print(y)"
   ]
  },
  {
   "cell_type": "code",
   "execution_count": 42,
   "metadata": {},
   "outputs": [],
   "source": [
    "# Build matrix of songs and their values for topics.\n",
    "# TODO: Need to adapt this to work with LDA. Currently, only LSI is supported.\n",
    "vecs = []\n",
    "for song_idx, song in enumerate(cc.get_docs()):\n",
    "    vecs.append(lsi[cc.dictionary.doc2bow(song)])\n",
    "X = sparse.coo_matrix(\n",
    "    ([t[1] for vec in vecs for t in vec],\n",
    "    (flatten([[i]*len(vec) for i, vec in enumerate(vecs)]), [t[0] for vec in vecs for t in vec])))"
   ]
  },
  {
   "cell_type": "code",
   "execution_count": null,
   "metadata": {},
   "outputs": [],
   "source": [
    "# TODO: get some labels for the songs. perhaps artist, or maybe extract some \"genre\"?"
   ]
  },
  {
   "cell_type": "code",
   "execution_count": 48,
   "metadata": {},
   "outputs": [],
   "source": [
    "# Now lets do some neat dimensionality reduction and get a visualization of our clusters.\n",
    "X_embedded = TSNE(n_components=2).fit_transform(X.toarray())\n",
    "X_sampled = random.sample(set((x,y) for x,y in X_embedded), 2000)"
   ]
  },
  {
   "cell_type": "code",
   "execution_count": 59,
   "metadata": {},
   "outputs": [
    {
     "data": {
      "image/png": "[encoded data removed]",
      "text/plain": [
       "<Figure size 432x288 with 1 Axes>"
      ]
     },
     "metadata": {
      "needs_background": "light"
     },
     "output_type": "display_data"
    }
   ],
   "source": [
    "xx = [e[0] for e in X_sampled]\n",
    "yy = [e[1] for e in X_sampled]\n",
    "plt.plot(xx, yy, '.')\n",
    "plt.show()"
   ]
  },
  {
   "cell_type": "code",
   "execution_count": null,
   "metadata": {},
   "outputs": [],
   "source": []
  }
 ],
 "metadata": {
  "kernelspec": {
   "display_name": "venv_portfolio",
   "language": "python",
   "name": "venv_portfolio"
  },
  "language_info": {
   "codemirror_mode": {
    "name": "ipython",
    "version": 3
   },
   "file_extension": ".py",
   "mimetype": "text/x-python",
   "name": "python",
   "nbconvert_exporter": "python",
   "pygments_lexer": "ipython3",
   "version": "3.7.2"
  }
 },
 "nbformat": 4,
 "nbformat_minor": 2
}
